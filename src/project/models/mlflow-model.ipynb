{
 "cells": [
  {
   "cell_type": "code",
   "execution_count": 1,
   "id": "cda77756-557d-4706-88c3-d8052653f42e",
   "metadata": {},
   "outputs": [],
   "source": [
    "#Just some imports you will need\n",
    "import mlflow\n",
    "import jwt\n",
    "import json\n",
    "import warnings\n",
    "import sys\n",
    "import pandas as pd\n",
    "import numpy as np\n",
    "from sklearn.metrics import mean_squared_error, mean_absolute_error, r2_score\n",
    "from sklearn.model_selection import train_test_split\n",
    "from sklearn.linear_model import ElasticNet\n",
    "from urllib.parse import urlparse\n",
    "import mlflow\n",
    "import mlflow.sklearn\n",
    "import logging\n",
    "import os\n",
    "logging.basicConfig(level=logging.WARN)\n",
    "logger = logging.getLogger(__name__)"
   ]
  },
  {
   "cell_type": "code",
   "execution_count": 2,
   "id": "b7c7f411-8edd-4872-9083-46bcf37b0d4d",
   "metadata": {},
   "outputs": [
    {
     "name": "stdout",
     "output_type": "stream",
     "text": [
      "MLFLOW_TRACKING_URI: http://127.0.0.1:8765\n"
     ]
    }
   ],
   "source": [
    "print('MLFLOW_TRACKING_URI: ' + os.environ['MLFLOW_TRACKING_URI'])"
   ]
  },
  {
   "cell_type": "code",
   "execution_count": 3,
   "id": "41bbca43-22fe-4f3d-b63b-b09045b2da55",
   "metadata": {},
   "outputs": [],
   "source": [
    "client = mlflow.tracking.MlflowClient()"
   ]
  },
  {
   "cell_type": "code",
   "execution_count": 4,
   "id": "7524eff5-9f8c-4bbb-8c93-1c5cb074a693",
   "metadata": {},
   "outputs": [
    {
     "name": "stdout",
     "output_type": "stream",
     "text": [
      "demo-dev_uk1-flow_test\n"
     ]
    }
   ],
   "source": [
    "# Here we are setting up the naming convention that we want to use for our MLFlow experiments. In this case it is a combination of our Project Name and Username.\n",
    "myprefix=''\n",
    "\n",
    "from datetime import datetime\n",
    "now = datetime.now()\n",
    "date_time_str = now.strftime(\"%m-%d-%Y\")\n",
    "\n",
    "experiment_name = 'demo'+'-' + os.environ['DOMINO_STARTING_USERNAME'] + '-' + os.environ['DOMINO_PROJECT_NAME']\n",
    "model_name = 'demo'+'-' + os.environ['DOMINO_PROJECT_NAME']\n",
    "if myprefix!='':\n",
    "    experiment_name = myprefix + '-' + experiment_name\n",
    "print(experiment_name)"
   ]
  },
  {
   "cell_type": "code",
   "execution_count": 5,
   "id": "a1baa537-85c1-41f6-bcaa-cc1753ea0f1f",
   "metadata": {},
   "outputs": [
    {
     "name": "stdout",
     "output_type": "stream",
     "text": [
      "Creating experiment \n",
      "demo-dev_uk1-flow_test\n"
     ]
    },
    {
     "data": {
      "text/plain": [
       "<Experiment: artifact_location='mlflow-artifacts:/mlflow', creation_time=1715165912958, experiment_id='3', last_update_time=1715165912958, lifecycle_stage='active', name='demo-dev_uk1-flow_test', tags={'mlflow.domino.dataset_info': '663b5102631ba025af5714b4-663b5102631ba025af5714b3',\n",
       " 'mlflow.domino.environment_id': '6615011314be3c4471a04f8f',\n",
       " 'mlflow.domino.environment_revision_id': '6615011314be3c4471a04f94',\n",
       " 'mlflow.domino.hardware_tier': 'small-k8s',\n",
       " 'mlflow.domino.project_id': '663b5101631ba025af5714ae',\n",
       " 'mlflow.domino.project_name': 'flow_test',\n",
       " 'mlflow.domino.provenance_checkpoint_id': '663b55dd631ba025af5714cd',\n",
       " 'mlflow.domino.run_id': '663b55c3631ba025af5714c8',\n",
       " 'mlflow.domino.run_number': '1',\n",
       " 'mlflow.domino.user': 'dev_uk1',\n",
       " 'mlflow.domino.user_id': '66323b01631ba025af571306',\n",
       " 'mlflow.source.git.branch': 'main',\n",
       " 'mlflow.source.git.commit': 'a51bd320e12fd5b9cf7a3dbd8664a654ec85f80b',\n",
       " 'mlflow.source.type': 'NOTEBOOK',\n",
       " 'mlflow.user': 'dev_uk1'}>"
      ]
     },
     "execution_count": 5,
     "metadata": {},
     "output_type": "execute_result"
    }
   ],
   "source": [
    "# Next we create the MLFlow experiment based on the name from the previous cell, unless it exists already. \n",
    "# This will be used to log all of our different model training runs so our team can review them at a later date.\n",
    "experiment = client.get_experiment_by_name(name=experiment_name)\n",
    "if(experiment is None):\n",
    "    print('Creating experiment ')\n",
    "    client.create_experiment(name=experiment_name)\n",
    "    experiment = client.get_experiment_by_name(name=experiment_name)\n",
    "\n",
    "print(experiment_name)\n",
    "mlflow.set_experiment(experiment_name=experiment_name)"
   ]
  },
  {
   "cell_type": "code",
   "execution_count": 6,
   "id": "368a76dc-2f87-41e6-93cb-95ea807fed79",
   "metadata": {},
   "outputs": [],
   "source": [
    "# We define a function that will evaluate the effectiveness of our model \n",
    "# based on the actual data and the data predicted by the model.\n",
    "def eval_metrics(actual, pred):\n",
    "    rmse = np.sqrt(mean_squared_error(actual, pred))\n",
    "    mae = mean_absolute_error(actual, pred)\n",
    "    r2 = r2_score(actual, pred)\n",
    "    return rmse, mae, r2"
   ]
  },
  {
   "cell_type": "code",
   "execution_count": 7,
   "id": "94951a25-8334-483f-acd3-d91be70f4ee9",
   "metadata": {},
   "outputs": [
    {
     "name": "stdout",
     "output_type": "stream",
     "text": [
      "Start Run\n",
      "Alpha : 0.7\n",
      "L1_Ratio : 0.6\n",
      "Elasticnet model (alpha=0.700000, l1_ratio=0.600000):\n",
      "  RMSE: 0.7567096992784073\n",
      "  MAE: 0.6133554798635241\n",
      "  R2: 0.03331542034162194\n",
      "http://127.0.0.1:8765\n",
      "http\n"
     ]
    },
    {
     "name": "stderr",
     "output_type": "stream",
     "text": [
      "Successfully registered model 'demo-flow_test'.\n",
      "2024/05/08 10:58:57 INFO mlflow.store.model_registry.abstract_store: Waiting up to 300 seconds for model version to finish creation. Model name: demo-flow_test, version 1\n",
      "Created version '1' of model 'demo-flow_test'.\n"
     ]
    },
    {
     "name": "stdout",
     "output_type": "stream",
     "text": [
      "mlflow-artifacts:/mlflow/c9f187925ce74871858c20cc70e09b54/artifacts\n",
      "Start Run\n",
      "Alpha : 0.7999999999999999\n",
      "L1_Ratio : 0.65\n",
      "Elasticnet model (alpha=0.800000, l1_ratio=0.650000):\n",
      "  RMSE: 0.7577581274612739\n",
      "  MAE: 0.6159517201070597\n",
      "  R2: 0.03063486407408511\n",
      "http://127.0.0.1:8765\n",
      "http\n"
     ]
    },
    {
     "name": "stderr",
     "output_type": "stream",
     "text": [
      "/opt/conda/lib/python3.9/site-packages/_distutils_hack/__init__.py:18: UserWarning: Distutils was imported before Setuptools, but importing Setuptools also replaces the `distutils` module in `sys.modules`. This may lead to undesirable behaviors or errors. To avoid these issues, avoid using distutils directly, ensure that setuptools is installed in the traditional way (e.g. not an editable install), and/or make sure that setuptools is always imported before distutils.\n",
      "  warnings.warn(\n",
      "/opt/conda/lib/python3.9/site-packages/_distutils_hack/__init__.py:33: UserWarning: Setuptools is replacing distutils.\n",
      "  warnings.warn(\"Setuptools is replacing distutils.\")\n",
      "Registered model 'demo-flow_test' already exists. Creating a new version of this model...\n",
      "2024/05/08 10:59:00 INFO mlflow.store.model_registry.abstract_store: Waiting up to 300 seconds for model version to finish creation. Model name: demo-flow_test, version 2\n",
      "Created version '2' of model 'demo-flow_test'.\n"
     ]
    },
    {
     "name": "stdout",
     "output_type": "stream",
     "text": [
      "mlflow-artifacts:/mlflow/2be70caf17cc4a9a8d7192bdf52c1ad9/artifacts\n",
      "Start Run\n",
      "Alpha : 0.8999999999999999\n",
      "L1_Ratio : 0.7000000000000001\n",
      "Elasticnet model (alpha=0.900000, l1_ratio=0.700000):\n",
      "  RMSE: 0.7579213411905277\n",
      "  MAE: 0.6171503570834783\n",
      "  R2: 0.03021723546159094\n",
      "http://127.0.0.1:8765\n",
      "http\n"
     ]
    },
    {
     "name": "stderr",
     "output_type": "stream",
     "text": [
      "/opt/conda/lib/python3.9/site-packages/_distutils_hack/__init__.py:18: UserWarning: Distutils was imported before Setuptools, but importing Setuptools also replaces the `distutils` module in `sys.modules`. This may lead to undesirable behaviors or errors. To avoid these issues, avoid using distutils directly, ensure that setuptools is installed in the traditional way (e.g. not an editable install), and/or make sure that setuptools is always imported before distutils.\n",
      "  warnings.warn(\n",
      "/opt/conda/lib/python3.9/site-packages/_distutils_hack/__init__.py:33: UserWarning: Setuptools is replacing distutils.\n",
      "  warnings.warn(\"Setuptools is replacing distutils.\")\n",
      "Registered model 'demo-flow_test' already exists. Creating a new version of this model...\n",
      "2024/05/08 10:59:03 INFO mlflow.store.model_registry.abstract_store: Waiting up to 300 seconds for model version to finish creation. Model name: demo-flow_test, version 3\n",
      "Created version '3' of model 'demo-flow_test'.\n"
     ]
    },
    {
     "name": "stdout",
     "output_type": "stream",
     "text": [
      "mlflow-artifacts:/mlflow/889e241df0ed45afa763b5ff842de574/artifacts\n",
      "Start Run\n",
      "Alpha : 0.9999999999999999\n",
      "L1_Ratio : 0.7500000000000001\n",
      "Elasticnet model (alpha=1.000000, l1_ratio=0.750000):\n",
      "  RMSE: 0.7578758069260131\n",
      "  MAE: 0.6181236903445718\n",
      "  R2: 0.03033375683670947\n",
      "http://127.0.0.1:8765\n",
      "http\n"
     ]
    },
    {
     "name": "stderr",
     "output_type": "stream",
     "text": [
      "/opt/conda/lib/python3.9/site-packages/_distutils_hack/__init__.py:18: UserWarning: Distutils was imported before Setuptools, but importing Setuptools also replaces the `distutils` module in `sys.modules`. This may lead to undesirable behaviors or errors. To avoid these issues, avoid using distutils directly, ensure that setuptools is installed in the traditional way (e.g. not an editable install), and/or make sure that setuptools is always imported before distutils.\n",
      "  warnings.warn(\n",
      "/opt/conda/lib/python3.9/site-packages/_distutils_hack/__init__.py:33: UserWarning: Setuptools is replacing distutils.\n",
      "  warnings.warn(\"Setuptools is replacing distutils.\")\n",
      "Registered model 'demo-flow_test' already exists. Creating a new version of this model...\n",
      "2024/05/08 10:59:07 INFO mlflow.store.model_registry.abstract_store: Waiting up to 300 seconds for model version to finish creation. Model name: demo-flow_test, version 4\n",
      "Created version '4' of model 'demo-flow_test'.\n"
     ]
    },
    {
     "name": "stdout",
     "output_type": "stream",
     "text": [
      "mlflow-artifacts:/mlflow/714761cb8084498f84570c3d50d18d44/artifacts\n"
     ]
    }
   ],
   "source": [
    "# This cell is the main bulk of work - it will:\n",
    "# Read in the data\n",
    "# Prepare the data for training/testing\n",
    "# Loop through different combinations of parameters\n",
    "# For each parameter it will train the model, evaluate the model and log both the parameters and model.\n",
    "\n",
    "\n",
    "# Read the wine-quality csv file from the URL\n",
    "csv_url = (\n",
    "     \"http://archive.ics.uci.edu/ml/machine-learning-databases/wine-quality/winequality-red.csv\"\n",
    ")\n",
    "try:\n",
    "     data = pd.read_csv(csv_url, sep=\";\")\n",
    "except Exception as e:\n",
    "     logger.exception(\n",
    "          \"Unable to download training & test CSV, check your internet connection. Error: %s\", e\n",
    "      )\n",
    "\n",
    "# Split the data into training and test sets. (0.75, 0.25) split.\n",
    "train, test = train_test_split(data)\n",
    "\n",
    "# The predicted column is \"quality\" which is a scalar from [3, 9]\n",
    "train_x = train.drop([\"quality\"], axis=1)\n",
    "test_x = test.drop([\"quality\"], axis=1)\n",
    "train_y = train[[\"quality\"]]\n",
    "test_y = test[[\"quality\"]]\n",
    "\n",
    "\n",
    "my_log = \"This is a test log\"\n",
    "with open(\"/tmp/test.txt\", 'w') as f:\n",
    "    f.write(my_log)\n",
    "with open(\"/tmp/test.log\", 'w') as f:\n",
    "    f.write(my_log)\n",
    "\n",
    "    \n",
    "    \n",
    "#run_tags={'mlflow.user':os.environ['DOMINO_STARTING_USERNAME']}\n",
    "#Change user name\n",
    "alpha = 0.7\n",
    "l1_ratio = 0.6\n",
    "while(alpha<1):\n",
    "    with mlflow.start_run():\n",
    "        print('Start Run')\n",
    "        print('Alpha : ' + str(alpha))\n",
    "        print('L1_Ratio : ' + str(l1_ratio))\n",
    "        lr = ElasticNet(alpha=alpha, l1_ratio=l1_ratio, random_state=42)\n",
    "        lr.fit(train_x, train_y)\n",
    "        predicted_qualities = lr.predict(test_x)\n",
    "\n",
    "        (rmse, mae, r2) = eval_metrics(test_y, predicted_qualities)\n",
    "\n",
    "        print(\"Elasticnet model (alpha=%f, l1_ratio=%f):\" % (alpha, l1_ratio))\n",
    "        print(\"  RMSE: %s\" % rmse)\n",
    "        print(\"  MAE: %s\" % mae)\n",
    "        print(\"  R2: %s\" % r2)\n",
    "\n",
    "        mlflow.log_param(\"alpha\", alpha)\n",
    "        mlflow.log_param(\"l1_ratio\", l1_ratio)\n",
    "        mlflow.log_metric(\"rmse\", rmse)\n",
    "        mlflow.log_metric(\"r2\", r2)\n",
    "        mlflow.log_metric(\"mae\", mae)\n",
    "\n",
    "        tracking_url_type_store = urlparse(mlflow.get_tracking_uri()).scheme\n",
    "        print(mlflow.get_tracking_uri())\n",
    "        print(tracking_url_type_store)\n",
    "        # Model registry does not work with file store\n",
    "        if tracking_url_type_store != \"file\":\n",
    "            # Register the model\n",
    "            # There are other ways to use the Model Registry, which depends on the use case,\n",
    "            # please refer to the doc for more information:\n",
    "            # https://mlflow.org/docs/latest/model-registry.html#api-workflow\n",
    "            #mlflow.sklearn.log_model(lr, os.environ['DOMINO_STARTING_USERNAME']+\"/model\", registered_model_name=\"DEMO-ElasticnetWineModel-11\")\n",
    "            mlflow.sklearn.log_model(lr, \"demo_model\", registered_model_name=model_name)\n",
    "\n",
    "        else:        \n",
    "            mlflow.sklearn.log_model(lr,  model_name)\n",
    "        print(mlflow.get_artifact_uri())\n",
    "        alpha=alpha+0.1\n",
    "        l1_ratio = l1_ratio + 0.05        \n",
    "        "
   ]
  },
  {
   "cell_type": "code",
   "execution_count": null,
   "id": "dc6fb8e4-49a1-4051-9595-fcdedce2c15c",
   "metadata": {},
   "outputs": [],
   "source": []
  },
  {
   "cell_type": "code",
   "execution_count": null,
   "id": "c0f622f5-8b0b-4e75-99b5-34c3af747cdf",
   "metadata": {},
   "outputs": [],
   "source": []
  }
 ],
 "metadata": {
  "kernelspec": {
   "display_name": "Python 3 (ipykernel)",
   "language": "python",
   "name": "python3"
  },
  "language_info": {
   "codemirror_mode": {
    "name": "ipython",
    "version": 3
   },
   "file_extension": ".py",
   "mimetype": "text/x-python",
   "name": "python",
   "nbconvert_exporter": "python",
   "pygments_lexer": "ipython3",
   "version": "3.9.19"
  }
 },
 "nbformat": 4,
 "nbformat_minor": 5
}
